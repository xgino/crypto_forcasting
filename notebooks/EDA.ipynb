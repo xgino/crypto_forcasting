{
 "cells": [
  {
   "cell_type": "code",
   "execution_count": 9,
   "id": "efbba9a9",
   "metadata": {},
   "outputs": [],
   "source": [
    "import pandas as pd \n",
    "import numpy as np "
   ]
  },
  {
   "cell_type": "code",
   "execution_count": 3,
   "id": "103f8fb7",
   "metadata": {},
   "outputs": [
    {
     "data": {
      "text/plain": [
       "(7139252, 6)"
      ]
     },
     "execution_count": 3,
     "metadata": {},
     "output_type": "execute_result"
    }
   ],
   "source": [
    "df = pd.read_csv(\"../data/raw/btcusd_1-min_data.csv\")\n",
    "df.shape"
   ]
  },
  {
   "cell_type": "code",
   "execution_count": 4,
   "id": "d04adeed",
   "metadata": {},
   "outputs": [],
   "source": [
    "# Convert timestamp to datetime\n",
    "df['Date'] = pd.to_datetime(df['Timestamp'], unit='s')\n",
    "\n",
    "# Set datetime as index for time series analysis\n",
    "df = df.set_index('Date')"
   ]
  },
  {
   "cell_type": "code",
   "execution_count": 5,
   "id": "31e627ec",
   "metadata": {},
   "outputs": [
    {
     "data": {
      "text/html": [
       "<div>\n",
       "<style scoped>\n",
       "    .dataframe tbody tr th:only-of-type {\n",
       "        vertical-align: middle;\n",
       "    }\n",
       "\n",
       "    .dataframe tbody tr th {\n",
       "        vertical-align: top;\n",
       "    }\n",
       "\n",
       "    .dataframe thead th {\n",
       "        text-align: right;\n",
       "    }\n",
       "</style>\n",
       "<table border=\"1\" class=\"dataframe\">\n",
       "  <thead>\n",
       "    <tr style=\"text-align: right;\">\n",
       "      <th></th>\n",
       "      <th>Timestamp</th>\n",
       "      <th>Open</th>\n",
       "      <th>High</th>\n",
       "      <th>Low</th>\n",
       "      <th>Close</th>\n",
       "      <th>Volume</th>\n",
       "    </tr>\n",
       "    <tr>\n",
       "      <th>Date</th>\n",
       "      <th></th>\n",
       "      <th></th>\n",
       "      <th></th>\n",
       "      <th></th>\n",
       "      <th></th>\n",
       "      <th></th>\n",
       "    </tr>\n",
       "  </thead>\n",
       "  <tbody>\n",
       "    <tr>\n",
       "      <th>2012-01-01 10:01:00</th>\n",
       "      <td>1.325412e+09</td>\n",
       "      <td>4.58</td>\n",
       "      <td>4.58</td>\n",
       "      <td>4.58</td>\n",
       "      <td>4.58</td>\n",
       "      <td>0.000000</td>\n",
       "    </tr>\n",
       "    <tr>\n",
       "      <th>2012-01-01 10:02:00</th>\n",
       "      <td>1.325412e+09</td>\n",
       "      <td>4.58</td>\n",
       "      <td>4.58</td>\n",
       "      <td>4.58</td>\n",
       "      <td>4.58</td>\n",
       "      <td>0.000000</td>\n",
       "    </tr>\n",
       "    <tr>\n",
       "      <th>2012-01-01 10:03:00</th>\n",
       "      <td>1.325412e+09</td>\n",
       "      <td>4.58</td>\n",
       "      <td>4.58</td>\n",
       "      <td>4.58</td>\n",
       "      <td>4.58</td>\n",
       "      <td>0.000000</td>\n",
       "    </tr>\n",
       "    <tr>\n",
       "      <th>2012-01-01 10:04:00</th>\n",
       "      <td>1.325412e+09</td>\n",
       "      <td>4.58</td>\n",
       "      <td>4.58</td>\n",
       "      <td>4.58</td>\n",
       "      <td>4.58</td>\n",
       "      <td>0.000000</td>\n",
       "    </tr>\n",
       "    <tr>\n",
       "      <th>2012-01-01 10:05:00</th>\n",
       "      <td>1.325412e+09</td>\n",
       "      <td>4.58</td>\n",
       "      <td>4.58</td>\n",
       "      <td>4.58</td>\n",
       "      <td>4.58</td>\n",
       "      <td>0.000000</td>\n",
       "    </tr>\n",
       "    <tr>\n",
       "      <th>...</th>\n",
       "      <td>...</td>\n",
       "      <td>...</td>\n",
       "      <td>...</td>\n",
       "      <td>...</td>\n",
       "      <td>...</td>\n",
       "      <td>...</td>\n",
       "    </tr>\n",
       "    <tr>\n",
       "      <th>2025-07-30 00:48:00</th>\n",
       "      <td>1.753836e+09</td>\n",
       "      <td>117535.00</td>\n",
       "      <td>117549.00</td>\n",
       "      <td>117535.00</td>\n",
       "      <td>117547.00</td>\n",
       "      <td>0.176325</td>\n",
       "    </tr>\n",
       "    <tr>\n",
       "      <th>2025-07-30 00:49:00</th>\n",
       "      <td>1.753837e+09</td>\n",
       "      <td>117547.00</td>\n",
       "      <td>117550.00</td>\n",
       "      <td>117546.00</td>\n",
       "      <td>117546.00</td>\n",
       "      <td>0.029514</td>\n",
       "    </tr>\n",
       "    <tr>\n",
       "      <th>2025-07-30 00:50:00</th>\n",
       "      <td>1.753837e+09</td>\n",
       "      <td>117547.00</td>\n",
       "      <td>117547.00</td>\n",
       "      <td>117546.00</td>\n",
       "      <td>117546.00</td>\n",
       "      <td>0.004944</td>\n",
       "    </tr>\n",
       "    <tr>\n",
       "      <th>2025-07-30 00:51:00</th>\n",
       "      <td>1.753837e+09</td>\n",
       "      <td>117547.00</td>\n",
       "      <td>117554.00</td>\n",
       "      <td>117546.00</td>\n",
       "      <td>117554.00</td>\n",
       "      <td>0.510482</td>\n",
       "    </tr>\n",
       "    <tr>\n",
       "      <th>2025-07-30 00:52:00</th>\n",
       "      <td>1.753837e+09</td>\n",
       "      <td>117558.00</td>\n",
       "      <td>117633.00</td>\n",
       "      <td>117557.00</td>\n",
       "      <td>117633.00</td>\n",
       "      <td>0.205773</td>\n",
       "    </tr>\n",
       "  </tbody>\n",
       "</table>\n",
       "<p>7139252 rows × 6 columns</p>\n",
       "</div>"
      ],
      "text/plain": [
       "                        Timestamp       Open       High        Low      Close  \\\n",
       "Date                                                                            \n",
       "2012-01-01 10:01:00  1.325412e+09       4.58       4.58       4.58       4.58   \n",
       "2012-01-01 10:02:00  1.325412e+09       4.58       4.58       4.58       4.58   \n",
       "2012-01-01 10:03:00  1.325412e+09       4.58       4.58       4.58       4.58   \n",
       "2012-01-01 10:04:00  1.325412e+09       4.58       4.58       4.58       4.58   \n",
       "2012-01-01 10:05:00  1.325412e+09       4.58       4.58       4.58       4.58   \n",
       "...                           ...        ...        ...        ...        ...   \n",
       "2025-07-30 00:48:00  1.753836e+09  117535.00  117549.00  117535.00  117547.00   \n",
       "2025-07-30 00:49:00  1.753837e+09  117547.00  117550.00  117546.00  117546.00   \n",
       "2025-07-30 00:50:00  1.753837e+09  117547.00  117547.00  117546.00  117546.00   \n",
       "2025-07-30 00:51:00  1.753837e+09  117547.00  117554.00  117546.00  117554.00   \n",
       "2025-07-30 00:52:00  1.753837e+09  117558.00  117633.00  117557.00  117633.00   \n",
       "\n",
       "                       Volume  \n",
       "Date                           \n",
       "2012-01-01 10:01:00  0.000000  \n",
       "2012-01-01 10:02:00  0.000000  \n",
       "2012-01-01 10:03:00  0.000000  \n",
       "2012-01-01 10:04:00  0.000000  \n",
       "2012-01-01 10:05:00  0.000000  \n",
       "...                       ...  \n",
       "2025-07-30 00:48:00  0.176325  \n",
       "2025-07-30 00:49:00  0.029514  \n",
       "2025-07-30 00:50:00  0.004944  \n",
       "2025-07-30 00:51:00  0.510482  \n",
       "2025-07-30 00:52:00  0.205773  \n",
       "\n",
       "[7139252 rows x 6 columns]"
      ]
     },
     "execution_count": 5,
     "metadata": {},
     "output_type": "execute_result"
    }
   ],
   "source": [
    "df"
   ]
  },
  {
   "cell_type": "code",
   "execution_count": 6,
   "id": "45c38909",
   "metadata": {},
   "outputs": [
    {
     "data": {
      "text/plain": [
       "<Axes: title={'center': 'BTC Trading Volume'}, xlabel='Date'>"
      ]
     },
     "execution_count": 6,
     "metadata": {},
     "output_type": "execute_result"
    },
    {
     "data": {
      "image/png": "[encoded data removed]",
      "text/plain": [
       "<Figure size 1500x500 with 1 Axes>"
      ]
     },
     "metadata": {},
     "output_type": "display_data"
    }
   ],
   "source": [
    "import matplotlib.pyplot as plt\n",
    "\n",
    "df['Close'].plot(figsize=(15,5), title='BTC Closing Price')\n",
    "df['Volume'].plot(figsize=(15,5), title='BTC Trading Volume')"
   ]
  },
  {
   "cell_type": "code",
   "execution_count": 7,
   "id": "c7560202",
   "metadata": {},
   "outputs": [],
   "source": [
    "df['Return'] = df['Close'].pct_change()\n",
    "df['Volatility'] = df['Return'].rolling(window=7).std()"
   ]
  },
  {
   "cell_type": "code",
   "execution_count": 10,
   "id": "9497869b",
   "metadata": {},
   "outputs": [],
   "source": [
    "df['Log_Return'] = np.log(df['Close']/df['Close'].shift(1))\n",
    "df['SMA_7'] = df['Close'].rolling(7).mean()\n",
    "df['Volatility_7'] = df['Log_Return'].rolling(7).std()\n",
    "df['Hour'] = df.index.hour\n",
    "df['DayOfWeek'] = df.index.dayofweek"
   ]
  },
  {
   "cell_type": "code",
   "execution_count": 11,
   "id": "7f8c05eb",
   "metadata": {},
   "outputs": [
    {
     "name": "stderr",
     "output_type": "stream",
     "text": [
      "/var/folders/yj/2dw3syk175145_7bts9_4vqr0000gn/T/ipykernel_13127/2326119011.py:2: FutureWarning: 'T' is deprecated and will be removed in a future version, please use 'min' instead.\n",
      "  full_range = pd.date_range(start=df.index.min(), end=df.index.max(), freq='1T')\n"
     ]
    },
    {
     "name": "stdout",
     "output_type": "stream",
     "text": [
      "Missing timestamps: 1160\n"
     ]
    }
   ],
   "source": [
    "# Expected frequency: 1 minute\n",
    "full_range = pd.date_range(start=df.index.min(), end=df.index.max(), freq='1T')\n",
    "missing = full_range.difference(df.index)\n",
    "print(f\"Missing timestamps: {len(missing)}\")"
   ]
  },
  {
   "cell_type": "code",
   "execution_count": 12,
   "id": "3c29b752",
   "metadata": {},
   "outputs": [
    {
     "name": "stdout",
     "output_type": "stream",
     "text": [
      "Flat candles: 2267020\n"
     ]
    }
   ],
   "source": [
    "flat_candles = (df['Open'] == df['Close']) & (df['High'] == df['Low'])\n",
    "print(f\"Flat candles: {flat_candles.sum()}\")"
   ]
  },
  {
   "cell_type": "code",
   "execution_count": 13,
   "id": "d77b4637",
   "metadata": {},
   "outputs": [],
   "source": [
    "for lag in [1, 5, 15, 30, 60]:  # lags in minutes\n",
    "    df[f'Close_lag_{lag}'] = df['Close'].shift(lag)\n",
    "    df[f'Return_lag_{lag}'] = df['Log_Return'].shift(lag)"
   ]
  },
  {
   "cell_type": "code",
   "execution_count": 14,
   "id": "ec8a34e2",
   "metadata": {},
   "outputs": [
    {
     "name": "stdout",
     "output_type": "stream",
     "text": [
      "Collecting ta\n",
      "  Downloading ta-0.11.0.tar.gz (25 kB)\n",
      "  Preparing metadata (setup.py) ... \u001b[?25ldone\n",
      "\u001b[?25hRequirement already satisfied: numpy in /opt/anaconda3/envs/cenv/lib/python3.11/site-packages (from ta) (1.26.4)\n",
      "Requirement already satisfied: pandas in /opt/anaconda3/envs/cenv/lib/python3.11/site-packages (from ta) (2.2.3)\n",
      "Requirement already satisfied: python-dateutil>=2.8.2 in /opt/anaconda3/envs/cenv/lib/python3.11/site-packages (from pandas->ta) (2.9.0.post0)\n",
      "Requirement already satisfied: pytz>=2020.1 in /opt/anaconda3/envs/cenv/lib/python3.11/site-packages (from pandas->ta) (2024.1)\n",
      "Requirement already satisfied: tzdata>=2022.7 in /opt/anaconda3/envs/cenv/lib/python3.11/site-packages (from pandas->ta) (2023.3)\n",
      "Requirement already satisfied: six>=1.5 in /opt/anaconda3/envs/cenv/lib/python3.11/site-packages (from python-dateutil>=2.8.2->pandas->ta) (1.16.0)\n",
      "Building wheels for collected packages: ta\n",
      "  Building wheel for ta (setup.py) ... \u001b[?25ldone\n",
      "\u001b[?25h  Created wheel for ta: filename=ta-0.11.0-py3-none-any.whl size=29482 sha256=d129073f45b981d69a052a55284b2a4d0caf9213a9a4dea630452f4589b664e4\n",
      "  Stored in directory: /Users/gin/Library/Caches/pip/wheels/a1/d7/29/7781cc5eb9a3659d032d7d15bdd0f49d07d2b24fec29f44bc4\n",
      "Successfully built ta\n",
      "Installing collected packages: ta\n",
      "Successfully installed ta-0.11.0\n"
     ]
    }
   ],
   "source": [
    "!pip install ta\n",
    "import ta\n",
    "\n",
    "# Relative Strength Index (RSI)\n",
    "df['RSI_14'] = ta.momentum.RSIIndicator(df['Close'], window=14).rsi()\n",
    "\n",
    "# MACD (Trend Indicator)\n",
    "macd = ta.trend.MACD(df['Close'])\n",
    "df['MACD'] = macd.macd()\n",
    "df['MACD_Signal'] = macd.macd_signal()\n",
    "\n",
    "# Bollinger Bands (Volatility)\n",
    "boll = ta.volatility.BollingerBands(df['Close'], window=20)\n",
    "df['BB_High'] = boll.bollinger_hband()\n",
    "df['BB_Low'] = boll.bollinger_lband()"
   ]
  },
  {
   "cell_type": "code",
   "execution_count": 15,
   "id": "ac9734b1",
   "metadata": {},
   "outputs": [],
   "source": [
    "df['High_Low_Spread'] = df['High'] - df['Low']\n",
    "df['Close_Open_Spread'] = df['Close'] - df['Open']\n",
    "df['Close_to_High'] = df['Close'] / df['High']\n",
    "df['Close_to_Low'] = df['Close'] / df['Low']"
   ]
  },
  {
   "cell_type": "code",
   "execution_count": null,
   "id": "d5f45ad6",
   "metadata": {},
   "outputs": [],
   "source": [
    "from statsmodels.graphics.tsaplots import plot_acf, plot_pacf\n",
    "plot_acf(df['Log_Return'].dropna(), lags=50)\n",
    "plot_pacf(df['Log_Return'].dropna(), lags=50)"
   ]
  },
  {
   "cell_type": "code",
   "execution_count": null,
   "id": "3cfee498",
   "metadata": {},
   "outputs": [],
   "source": [
    "df['Volume_Close_Corr'] = df['Close'].rolling(60).corr(df['Volume'])"
   ]
  },
  {
   "cell_type": "code",
   "execution_count": null,
   "id": "ff899461",
   "metadata": {},
   "outputs": [],
   "source": [
    "df_15m = df.resample('15T').agg({\n",
    "    'Open': 'first',\n",
    "    'High': 'max',\n",
    "    'Low': 'min',\n",
    "    'Close': 'last',\n",
    "    'Volume': 'sum'\n",
    "})"
   ]
  },
  {
   "cell_type": "code",
   "execution_count": null,
   "id": "4e406869",
   "metadata": {},
   "outputs": [],
   "source": [
    "import plotly.graph_objects as go\n",
    "\n",
    "fig = go.Figure(data=[go.Candlestick(\n",
    "    x=df.index,\n",
    "    open=df['Open'],\n",
    "    high=df['High'],\n",
    "    low=df['Low'],\n",
    "    close=df['Close']\n",
    ")])\n",
    "fig.update_layout(title='BTC Candlestick Chart', xaxis_rangeslider_visible=False)\n",
    "fig.show()"
   ]
  },
  {
   "cell_type": "code",
   "execution_count": null,
   "id": "50415307",
   "metadata": {},
   "outputs": [],
   "source": [
    "import seaborn as sns\n",
    "plt.figure(figsize=(12,8))\n",
    "sns.heatmap(df.corr(), cmap='coolwarm', center=0)"
   ]
  },
  {
   "cell_type": "code",
   "execution_count": null,
   "id": "142e41ed",
   "metadata": {},
   "outputs": [],
   "source": []
  }
 ],
 "metadata": {
  "kernelspec": {
   "display_name": "cenv",
   "language": "python",
   "name": "python3"
  },
  "language_info": {
   "codemirror_mode": {
    "name": "ipython",
    "version": 3
   },
   "file_extension": ".py",
   "mimetype": "text/x-python",
   "name": "python",
   "nbconvert_exporter": "python",
   "pygments_lexer": "ipython3",
   "version": "3.11.11"
  }
 },
 "nbformat": 4,
 "nbformat_minor": 5
}
